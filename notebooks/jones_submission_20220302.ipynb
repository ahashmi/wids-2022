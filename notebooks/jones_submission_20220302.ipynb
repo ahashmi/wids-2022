{
 "cells": [
  {
   "cell_type": "code",
   "execution_count": 1,
   "id": "6ea2e2dc-041e-4420-9ae0-8753948adc2b",
   "metadata": {},
   "outputs": [],
   "source": [
    "%config Completer.use_jedi = False"
   ]
  },
  {
   "cell_type": "code",
   "execution_count": 1,
   "id": "dbe8e797-f1d7-4457-a1e0-584560abd3bd",
   "metadata": {},
   "outputs": [],
   "source": [
    "import pandas as pd\n",
    "import seaborn as sns\n",
    "import numpy as np\n",
    "import matplotlib.pyplot as plt\n",
    "\n",
    "from scipy import stats\n",
    "\n",
    "import shap\n",
    "\n",
    "from sklearn.preprocessing import StandardScaler\n",
    "\n",
    "import optuna.integration.lightgbm as lgbm\n",
    "import optuna\n",
    "\n",
    "\n",
    "import warnings\n",
    "warnings.filterwarnings('ignore')\n",
    "\n",
    "import wandb\n",
    "\n",
    "plt.rcParams.update({'font.size': 18})\n",
    "plt.style.use('ggplot')"
   ]
  },
  {
   "cell_type": "code",
   "execution_count": null,
   "id": "c30c4d60-2aae-4dd0-bbb4-55de320295c1",
   "metadata": {},
   "outputs": [],
   "source": [
    "train = pd.read_csv('./widsdatathon2022/train.csv')\n",
    "test = pd.read_csv('./widsdatathon2022/test.csv')\n",
    "\n",
    "train.head()"
   ]
  },
  {
   "cell_type": "code",
   "execution_count": null,
   "id": "8468164d-deb3-4ad3-8909-d2f371775dfa",
   "metadata": {},
   "outputs": [],
   "source": [
    "print(train.State_Factor.unique())\n",
    "print(test.State_Factor.unique())"
   ]
  },
  {
   "cell_type": "code",
   "execution_count": null,
   "id": "8914494c-ca98-4c05-a9c1-9e24576be88c",
   "metadata": {},
   "outputs": [],
   "source": [
    "train.describe()"
   ]
  },
  {
   "cell_type": "code",
   "execution_count": null,
   "id": "c82c8e05-48bd-4baa-8784-6ac9a1a3d89f",
   "metadata": {},
   "outputs": [],
   "source": [
    "train.info()"
   ]
  },
  {
   "cell_type": "code",
   "execution_count": null,
   "id": "0a343cb7-edcf-42d1-bd2e-a00e4472e282",
   "metadata": {},
   "outputs": [],
   "source": [
    "train.isnull().sum()/len(train)*100"
   ]
  },
  {
   "cell_type": "code",
   "execution_count": null,
   "id": "fd3a8f2a-305a-41e3-8a3a-feec634ba6a1",
   "metadata": {},
   "outputs": [],
   "source": [
    "numeric_features = train.select_dtypes(include=['int64', 'float64']).columns\n",
    "categorical_features = train.select_dtypes(include=['object']).columns\n",
    "cat_df = train[categorical_features]\n",
    "num_df = train[numeric_features]"
   ]
  },
  {
   "cell_type": "code",
   "execution_count": null,
   "id": "0a16f0b1-cf55-484e-a6bf-431b515f2a64",
   "metadata": {},
   "outputs": [],
   "source": [
    "cat_df.isnull().sum()/len(train)*100"
   ]
  },
  {
   "cell_type": "code",
   "execution_count": null,
   "id": "ab99444a-2cef-4123-aff1-6627dcc1630f",
   "metadata": {},
   "outputs": [],
   "source": [
    "num_df.isnull().sum()/len(train)*100"
   ]
  },
  {
   "cell_type": "code",
   "execution_count": null,
   "id": "aa4258a4-1557-4029-b55d-a7edbd9333de",
   "metadata": {},
   "outputs": [],
   "source": [
    "numerical = ['Year_Factor', 'floor_area', 'year_built','energy_star_rating', 'ELEVATION',\n",
    "             'direction_peak_wind_speed','max_wind_speed', 'days_with_fog', 'site_eui']\n",
    "num_df[numerical].hist(bins=20, layout=(3,3), figsize=(9,3))\n",
    "plt.tight_layout()\n",
    "plt.show()"
   ]
  },
  {
   "cell_type": "code",
   "execution_count": null,
   "id": "0252467d-fb6d-4b85-99e9-b52f07ac12f4",
   "metadata": {},
   "outputs": [],
   "source": [
    "numerical = ['january_min_temp', 'january_avg_temp', 'january_max_temp',\n",
    "             'february_min_temp', 'february_avg_temp','february_max_temp']\n",
    "num_df[numerical].hist(bins=20, layout=(3,3), figsize=(9,3))\n",
    "plt.tight_layout()\n",
    "plt.show()"
   ]
  },
  {
   "cell_type": "code",
   "execution_count": null,
   "id": "aec6b7e5-cdf4-43d6-adac-8f090c915f5e",
   "metadata": {},
   "outputs": [],
   "source": [
    "numerical = ['march_min_temp', 'march_avg_temp', 'march_max_temp',\n",
    "             'april_min_temp', 'april_avg_temp','april_max_temp']\n",
    "num_df[numerical].hist(bins=20, layout=(3,3), figsize=(9,3))\n",
    "plt.tight_layout()\n",
    "plt.show()"
   ]
  },
  {
   "cell_type": "code",
   "execution_count": null,
   "id": "c0776872-9c01-4e0a-97c3-4ead780c449f",
   "metadata": {},
   "outputs": [],
   "source": [
    "fig, axs = plt.subplots(1, 3, figsize=(20, 10))\n",
    "for variable, ax in zip(categorical_features, axs.flatten()):\n",
    "    sns.histplot(train, x='site_eui', hue=variable, multiple='stack', ax=ax)"
   ]
  },
  {
   "cell_type": "code",
   "execution_count": null,
   "id": "204b485c-b307-40c2-b5e1-16c16d2cb848",
   "metadata": {},
   "outputs": [],
   "source": [
    "# https://www.kaggle.com/usharengaraju/wids2022-lgbm-starter-w-b\n",
    "plt.figure(figsize=(25, 11))\n",
    "sns.heatmap(train.isna().values, \n",
    "            cmap=['#ffd514','#ff355d'], xticklabels=train.columns)\n",
    "plt.title(\"Missing values in training Data\", size=20)"
   ]
  },
  {
   "cell_type": "code",
   "execution_count": null,
   "id": "95810109-11a3-4a5f-8e5d-ed2431dec486",
   "metadata": {},
   "outputs": [],
   "source": [
    "#code copied from https://www.kaggle.com/shrutisaxena/wids2022-starter-code\n",
    "missing_columns = [col for col in train.columns if train[col].isnull().any()]\n",
    "missingvalues_count =train.isna().sum()\n",
    "missingValues_df = pd.DataFrame(missingvalues_count.rename('Null Values Count')).loc[missingvalues_count.ne(0)]\n",
    "missingValues_df.style.background_gradient(cmap=\"Pastel1\")"
   ]
  },
  {
   "cell_type": "code",
   "execution_count": null,
   "id": "7bce15ca-839c-4513-a3f2-9e54c8c7ec01",
   "metadata": {},
   "outputs": [],
   "source": [
    "train.describe().style.background_gradient(cmap=\"Pastel1\")"
   ]
  },
  {
   "cell_type": "code",
   "execution_count": null,
   "id": "9268a820-2a30-4006-8049-6bbd6d670a09",
   "metadata": {},
   "outputs": [],
   "source": [
    "plt.figure(figsize=(15, 7))\n",
    "plt.subplot(121)\n",
    "sns.kdeplot(train.site_eui , color = \"#ffd514\")\n",
    "plt.subplot(122)\n",
    "sns.boxplot(train.site_eui , color = \"#ff355d\");"
   ]
  },
  {
   "cell_type": "code",
   "execution_count": 4,
   "id": "41f912c6-3eff-4548-bad6-17627067f05e",
   "metadata": {},
   "outputs": [],
   "source": [
    "train = pd.read_csv('./widsdatathon2022/train.csv')\n",
    "test = pd.read_csv('./widsdatathon2022/test.csv')"
   ]
  },
  {
   "cell_type": "code",
   "execution_count": 33,
   "id": "8976a93a-3b32-4531-b3aa-979485492736",
   "metadata": {},
   "outputs": [],
   "source": [
    "# year_built: replace with current year.\n",
    "train['year_built'] = train['year_built'].replace(np.nan, 2022)\n",
    "# energy_star_rating: replace with mean.\n",
    "train['energy_star_rating'] = train['energy_star_rating'].\\\n",
    "replace(np.nan, train['energy_star_rating'].mean())\n",
    "# direction_max_wind_speed, direction_peak_wind_speed, max_wind_speed: \n",
    "# replace with 1 with since 25, 50 75 percentiles are all 1.\n",
    "train['direction_max_wind_speed'] = \\\n",
    "train['direction_max_wind_speed'].replace(np.nan, 1)\n",
    "train['direction_peak_wind_speed'] = \\\n",
    "train['direction_peak_wind_speed'].replace(np.nan, 1)\n",
    "train['max_wind_speed'] = train['max_wind_speed'].replace(np.nan, 1)\n",
    "# energy_star_rating: replace with mean.\n",
    "train['days_with_fog'] = train['days_with_fog'].replace(np.nan,\n",
    "                                                        train['days_with_fog'].mean())\n",
    "# test data\n",
    "# year_built: replace with current year.\n",
    "test['year_built'] = test['year_built'].replace(np.nan, 2022)\n",
    "# energy_star_rating: replace with mean.\n",
    "test['energy_star_rating'] = test['energy_star_rating'].\\\n",
    "replace(np.nan, test['energy_star_rating'].mean())\n",
    "# direction_max_wind_speed, direction_peak_wind_speed, max_wind_speed: \n",
    "# replace with 1 with since 25, 50 75 percentiles are all 1.\n",
    "test['direction_max_wind_speed'] = \\\n",
    "test['direction_max_wind_speed'].replace(np.nan, 1)\n",
    "test['direction_peak_wind_speed'] = \\\n",
    "test['direction_peak_wind_speed'].replace(np.nan, 1)\n",
    "test['max_wind_speed'] = test['max_wind_speed'].replace(np.nan, 1)\n",
    "# energy_star_rating: replace with mean.\n",
    "test['days_with_fog'] = test['days_with_fog'].replace(np.nan,\n",
    "                                                      test['days_with_fog'].mean())"
   ]
  },
  {
   "cell_type": "code",
   "execution_count": 34,
   "id": "c25c90cf-6290-4098-98c1-693e48724832",
   "metadata": {},
   "outputs": [],
   "source": [
    "# handling categorical fields\n",
    "from sklearn.preprocessing import LabelBinarizer\n",
    "le = LabelBinarizer()\n",
    "train = pd.get_dummies(train, columns=['building_class'])\n",
    "test = pd.get_dummies(test, columns=['building_class'])\n",
    "\n",
    "# cols = ['State_Factor','facility_type']\n",
    "# train.drop(cols, axis=1, inplace=True)\n",
    "# test.drop(cols, axis=1, inplace=True)\n",
    "# train['building_class']= le.fit_transform(train['building_class']).astype(\"uint8\")\n",
    "# test['building_class']= le.fit_transform(test['building_class']).astype(\"uint8\")\n",
    "train['State_Factor']= le.fit_transform(train['State_Factor']).astype(\"uint8\")\n",
    "test['State_Factor']= le.fit_transform(test['State_Factor']).astype(\"uint8\")\n",
    "train['facility_type']= le.fit_transform(train['facility_type']).astype(\"uint8\")\n",
    "test['facility_type']= le.fit_transform(test['facility_type']).astype(\"uint8\")"
   ]
  },
  {
   "cell_type": "code",
   "execution_count": 35,
   "id": "fee7a57b-eb84-41b9-a194-b68cdb9b4903",
   "metadata": {},
   "outputs": [],
   "source": [
    "feat = [col for col in train.columns if col not in [\"id\", \"site_eui\"]]\n",
    "X = train[feat]\n",
    "y = train[\"site_eui\"]\n",
    "\n",
    "X_test = test[feat]"
   ]
  },
  {
   "cell_type": "code",
   "execution_count": 5,
   "id": "1ad52011-8ec5-4951-8830-f8d601253964",
   "metadata": {},
   "outputs": [
    {
     "name": "stdout",
     "output_type": "stream",
     "text": [
      "Null values in train data : {'year_built': 1837, 'energy_star_rating': 26709, 'direction_max_wind_speed': 41082, 'direction_peak_wind_speed': 41811, 'max_wind_speed': 41082, 'days_with_fog': 45796}\n",
      "Null values in test data : {'year_built': 92, 'energy_star_rating': 2254, 'direction_max_wind_speed': 8575, 'direction_peak_wind_speed': 8575, 'max_wind_speed': 8575, 'days_with_fog': 9117}\n",
      "{}\n",
      "{}\n"
     ]
    }
   ],
   "source": [
    "# https://www.kaggle.com/avinashreddykovvuri/a01-vitb-avinash-s-wids-mark-6\n",
    "\n",
    "def nul_values(col,data):\n",
    "    null_val = dict()\n",
    "    for i in col:\n",
    "        if (data[i].isnull().sum())>0:\n",
    "            null_val[i] = (data[i].isnull().sum())\n",
    "    print(null_val)\n",
    "    \n",
    "print(\"Null values in train data\",end=\" : \")\n",
    "nul_values(train.columns,train)\n",
    "print(\"Null values in test data\",end=\" : \")\n",
    "nul_values(test.columns,test)\n",
    "\n",
    "# train = train.drop([\"direction_max_wind_speed\", \n",
    "#                     'direction_peak_wind_speed', 'max_wind_speed'],axis=1)\n",
    "# test = test.drop([\"direction_max_wind_speed\", \n",
    "#                   'direction_peak_wind_speed', 'max_wind_speed'],axis=1)\n",
    "train['direction_max_wind_speed'] = \\\n",
    "train['direction_max_wind_speed'].replace(np.nan, 1)\n",
    "train['direction_peak_wind_speed'] = \\\n",
    "train['direction_peak_wind_speed'].replace(np.nan, 1)\n",
    "train['max_wind_speed'] = train['max_wind_speed'].replace(np.nan, 1)\n",
    "\n",
    "test['direction_max_wind_speed'] = \\\n",
    "test['direction_max_wind_speed'].replace(np.nan, 1)\n",
    "test['direction_peak_wind_speed'] = \\\n",
    "test['direction_peak_wind_speed'].replace(np.nan, 1)\n",
    "test['max_wind_speed'] = test['max_wind_speed'].replace(np.nan, 1)\n",
    "\n",
    "\n",
    "b = pd.concat([train[\"year_built\"],train[\"energy_star_rating\"],train['days_with_fog']],axis=1)\n",
    "a = pd.concat([test[\"year_built\"],test[\"energy_star_rating\"],test[\"days_with_fog\"]],axis=1)\n",
    "test = test.drop([\"year_built\",\"energy_star_rating\",'days_with_fog'],axis=1)\n",
    "train = train.drop([\"year_built\",\"energy_star_rating\",'days_with_fog'],axis=1)\n",
    "\n",
    "from sklearn.impute import SimpleImputer\n",
    "# Imputation\n",
    "my_imputer = SimpleImputer()\n",
    "imputed_X_test = pd.DataFrame(my_imputer.fit_transform(a))\n",
    "imputed_X_train = pd.DataFrame(my_imputer.fit_transform(b))\n",
    "# Imputation removed column names; put them back\n",
    "imputed_X_test.columns = a.columns\n",
    "imputed_X_train.columns = b.columns\n",
    "train = pd.concat([train,imputed_X_train],axis=1)\n",
    "test = pd.concat([test,imputed_X_test],axis=1)\n",
    "\n",
    "nul_values(train.columns,train)\n",
    "nul_values(test.columns,test)\n",
    "\n",
    "def fndCatData(data):\n",
    "    col_names = []\n",
    "    for col in data.columns:\n",
    "        if data[col].dtypes == \"object\":\n",
    "            col_names.append(col)\n",
    "    print(col_names)\n",
    "# fndCatData(train)\n",
    "# fndCatData(test)\n",
    "\n",
    "from sklearn.preprocessing import LabelEncoder\n",
    "train[\"State_Factor\"] = LabelEncoder().fit_transform(train[\"State_Factor\"])\n",
    "train[\"building_class\"] = LabelEncoder().fit_transform(train[\"building_class\"])\n",
    "train[\"facility_type\"] = LabelEncoder().fit_transform(train[\"facility_type\"])\n",
    "test[\"State_Factor\"] = LabelEncoder().fit_transform(test[\"State_Factor\"])\n",
    "test[\"building_class\"] = LabelEncoder().fit_transform(test[\"building_class\"])\n",
    "test[\"facility_type\"] = LabelEncoder().fit_transform(test[\"facility_type\"])\n",
    "\n",
    "train = train.drop([\"id\"],axis=1)\n",
    "X = train.drop([\"site_eui\"],axis=1)\n",
    "id = test['id']\n",
    "test = test.drop([\"id\"],axis=1)\n",
    "X_test = test\n",
    "y = train[\"site_eui\"]"
   ]
  },
  {
   "cell_type": "code",
   "execution_count": 91,
   "id": "e9dd528a-8abb-4a8b-8373-db499ea17987",
   "metadata": {},
   "outputs": [],
   "source": [
    "import copy\n",
    "trainnames = copy.deepcopy(X)\n",
    "scaler = StandardScaler()\n",
    "X = scaler.fit_transform(X)\n",
    "X_test = scaler.transform(X_test)"
   ]
  },
  {
   "cell_type": "code",
   "execution_count": 6,
   "id": "b38cd065-c3ff-4521-bf97-c209f2e40450",
   "metadata": {},
   "outputs": [],
   "source": [
    "from sklearn.model_selection import train_test_split\n",
    "X_train, X_val, y_train, y_val = train_test_split(X, y, test_size=0.05, random_state=42)"
   ]
  },
  {
   "cell_type": "code",
   "execution_count": 7,
   "id": "1e807410-e33f-47cd-9112-bab3a71b4ce5",
   "metadata": {},
   "outputs": [
    {
     "name": "stdout",
     "output_type": "stream",
     "text": [
      "0:\tlearn: 58.2038308\ttotal: 361ms\tremaining: 2h 48m 21s\n",
      "2000:\tlearn: 38.2261971\ttotal: 12m 3s\tremaining: 2h 36m 44s\n",
      "4000:\tlearn: 34.9586242\ttotal: 24m 5s\tremaining: 2h 24m 30s\n",
      "6000:\tlearn: 32.6071055\ttotal: 36m 9s\tremaining: 2h 12m 31s\n",
      "8000:\tlearn: 30.7575209\ttotal: 48m 12s\tremaining: 2h 30s\n",
      "10000:\tlearn: 29.2274190\ttotal: 1h 19s\tremaining: 1h 48m 33s\n",
      "12000:\tlearn: 27.9228297\ttotal: 1h 12m 24s\tremaining: 1h 36m 31s\n",
      "14000:\tlearn: 26.7984989\ttotal: 1h 24m 33s\tremaining: 1h 24m 32s\n",
      "16000:\tlearn: 25.7960259\ttotal: 1h 36m 47s\tremaining: 1h 12m 34s\n",
      "18000:\tlearn: 24.9060015\ttotal: 1h 49m 2s\tremaining: 1h 34s\n",
      "20000:\tlearn: 24.1054147\ttotal: 2h 1m 13s\tremaining: 48m 29s\n",
      "22000:\tlearn: 23.3730446\ttotal: 2h 13m 29s\tremaining: 36m 23s\n",
      "24000:\tlearn: 22.7073582\ttotal: 2h 25m 43s\tremaining: 24m 16s\n",
      "26000:\tlearn: 22.0943359\ttotal: 2h 38m 4s\tremaining: 12m 9s\n",
      "27999:\tlearn: 21.5228471\ttotal: 2h 50m 29s\tremaining: 0us\n"
     ]
    },
    {
     "data": {
      "text/plain": [
       "<catboost.core.CatBoostRegressor at 0x1a6faaa8df0>"
      ]
     },
     "execution_count": 7,
     "metadata": {},
     "output_type": "execute_result"
    }
   ],
   "source": [
    "from catboost import CatBoostRegressor\n",
    "\n",
    "model = CatBoostRegressor(verbose=2000,\n",
    "                          iterations=28000,\n",
    "                          early_stopping_rounds=10,\n",
    "                          random_seed=42,\n",
    "                          max_depth=15,\n",
    "                          task_type='GPU',\n",
    "                          learning_rate=0.0025,\n",
    "                          eval_metric='RMSE',\n",
    "                          loss_function='RMSE'\n",
    "                        )\n",
    "\n",
    "model.fit(X_train, y_train)"
   ]
  },
  {
   "cell_type": "code",
   "execution_count": 116,
   "id": "47f8bf9a-37da-40a4-bffb-245638b2eec7",
   "metadata": {},
   "outputs": [
    {
     "data": {
      "text/plain": [
       "RandomForestRegressor(max_depth=450, n_estimators=1000)"
      ]
     },
     "execution_count": 116,
     "metadata": {},
     "output_type": "execute_result"
    }
   ],
   "source": [
    "from sklearn.ensemble import RandomForestRegressor\n",
    "from sklearn.model_selection import GridSearchCV\n",
    "# param_grid = {\n",
    "#    'n_estimators': [100, 200, 500],\n",
    "#    'max_features': ['auto', 'sqrt', 'log2'],\n",
    "#    'max_depth' : [4,5,6,7,8],\n",
    "#    'criterion' :['mse', 'mae']\n",
    "# }\n",
    "# random_forest_tuning = RandomForestRegressor(random_state = 42)\n",
    "# GSCV = GridSearchCV(estimator=random_forest_tuning, param_grid=param_grid, cv=5)\n",
    "# GSCV.fit(X_train, y_train)\n",
    "# GSCV.best_params_ \n",
    "model = RandomForestRegressor(n_estimators = 1000, max_features = 'auto',\n",
    "                              max_depth = 450, criterion ='mse')\n",
    "model.fit(X, y)"
   ]
  },
  {
   "cell_type": "code",
   "execution_count": 121,
   "id": "7da37e67-cd45-4e41-8f30-0260823c57b5",
   "metadata": {},
   "outputs": [
    {
     "data": {
      "text/plain": [
       "XGBRegressor(base_score=0.5, booster='gbtree', colsample_bylevel=1,\n",
       "             colsample_bynode=1, colsample_bytree=1, enable_categorical=False,\n",
       "             gamma=0, gpu_id=-1, importance_type=None,\n",
       "             interaction_constraints='', learning_rate=0.0025, max_delta_step=0,\n",
       "             max_depth=450, min_child_weight=1, missing=nan,\n",
       "             monotone_constraints='()', n_estimators=1000, n_jobs=12,\n",
       "             num_parallel_tree=1, predictor='auto', random_state=0, reg_alpha=0,\n",
       "             reg_lambda=1, scale_pos_weight=1, subsample=1, tree_method='exact',\n",
       "             validate_parameters=1, verbosity=None)"
      ]
     },
     "execution_count": 121,
     "metadata": {},
     "output_type": "execute_result"
    }
   ],
   "source": [
    "from xgboost import XGBRegressor\n",
    "\n",
    "model = XGBRegressor(n_estimators=1000, learning_rate=0.0025, max_depth=450)\n",
    "model.fit(X_train, y_train)"
   ]
  },
  {
   "cell_type": "code",
   "execution_count": 125,
   "id": "4dc1ae54-d673-4a30-88d6-f44d4594eec1",
   "metadata": {},
   "outputs": [
    {
     "data": {
      "text/plain": [
       "LGBMRegressor(learning_rate=0.0025, max_depth=450, n_estimators=1000,\n",
       "              subsample=0.5)"
      ]
     },
     "execution_count": 125,
     "metadata": {},
     "output_type": "execute_result"
    }
   ],
   "source": [
    "import lightgbm as ltb\n",
    "model = ltb.LGBMRegressor(n_estimators=1000, learning_rate=0.0025,max_depth=450,subsample=0.5)\n",
    "model.fit(X_train, y_train)"
   ]
  },
  {
   "cell_type": "code",
   "execution_count": 8,
   "id": "f4c29340-8a14-44c6-83ca-01ffa889f4f1",
   "metadata": {},
   "outputs": [
    {
     "name": "stdout",
     "output_type": "stream",
     "text": [
      "rmse is 40.983\n"
     ]
    }
   ],
   "source": [
    "from sklearn.metrics import r2_score, mean_absolute_error, mean_squared_error\n",
    "y_pred_class_rf = model.predict(X_val)\n",
    "# y_pred_prob_rf = model.predict_proba(X_val)\n",
    "\n",
    "\n",
    "print('rmse is {:.3f}'.format(np.sqrt(mean_squared_error(y_val,y_pred_class_rf))))\n",
    "# print('roc-auc is {:.3f}'.format(roc_auc_score(y_val,y_pred_prob_rf[:,1])))"
   ]
  },
  {
   "cell_type": "code",
   "execution_count": null,
   "id": "d84e6ce0-bed3-41f8-a9b8-5e054aaacf48",
   "metadata": {},
   "outputs": [],
   "source": [
    "y_pred_class_rf"
   ]
  },
  {
   "cell_type": "code",
   "execution_count": 9,
   "id": "a33c1853-396b-4c49-9c41-cec97864f07b",
   "metadata": {},
   "outputs": [
    {
     "data": {
      "text/html": [
       "<div>\n",
       "<style scoped>\n",
       "    .dataframe tbody tr th:only-of-type {\n",
       "        vertical-align: middle;\n",
       "    }\n",
       "\n",
       "    .dataframe tbody tr th {\n",
       "        vertical-align: top;\n",
       "    }\n",
       "\n",
       "    .dataframe thead th {\n",
       "        text-align: right;\n",
       "    }\n",
       "</style>\n",
       "<table border=\"1\" class=\"dataframe\">\n",
       "  <thead>\n",
       "    <tr style=\"text-align: right;\">\n",
       "      <th></th>\n",
       "      <th>id</th>\n",
       "      <th>site_eui</th>\n",
       "    </tr>\n",
       "  </thead>\n",
       "  <tbody>\n",
       "    <tr>\n",
       "      <th>0</th>\n",
       "      <td>75757</td>\n",
       "      <td>218.144297</td>\n",
       "    </tr>\n",
       "    <tr>\n",
       "      <th>1</th>\n",
       "      <td>75758</td>\n",
       "      <td>226.979362</td>\n",
       "    </tr>\n",
       "    <tr>\n",
       "      <th>2</th>\n",
       "      <td>75759</td>\n",
       "      <td>174.948451</td>\n",
       "    </tr>\n",
       "    <tr>\n",
       "      <th>3</th>\n",
       "      <td>75760</td>\n",
       "      <td>231.524225</td>\n",
       "    </tr>\n",
       "    <tr>\n",
       "      <th>4</th>\n",
       "      <td>75761</td>\n",
       "      <td>216.896730</td>\n",
       "    </tr>\n",
       "    <tr>\n",
       "      <th>...</th>\n",
       "      <td>...</td>\n",
       "      <td>...</td>\n",
       "    </tr>\n",
       "    <tr>\n",
       "      <th>9700</th>\n",
       "      <td>85457</td>\n",
       "      <td>51.420409</td>\n",
       "    </tr>\n",
       "    <tr>\n",
       "      <th>9701</th>\n",
       "      <td>85458</td>\n",
       "      <td>53.121744</td>\n",
       "    </tr>\n",
       "    <tr>\n",
       "      <th>9702</th>\n",
       "      <td>85459</td>\n",
       "      <td>81.370424</td>\n",
       "    </tr>\n",
       "    <tr>\n",
       "      <th>9703</th>\n",
       "      <td>85460</td>\n",
       "      <td>75.563593</td>\n",
       "    </tr>\n",
       "    <tr>\n",
       "      <th>9704</th>\n",
       "      <td>85461</td>\n",
       "      <td>62.277511</td>\n",
       "    </tr>\n",
       "  </tbody>\n",
       "</table>\n",
       "<p>9705 rows × 2 columns</p>\n",
       "</div>"
      ],
      "text/plain": [
       "         id    site_eui\n",
       "0     75757  218.144297\n",
       "1     75758  226.979362\n",
       "2     75759  174.948451\n",
       "3     75760  231.524225\n",
       "4     75761  216.896730\n",
       "...     ...         ...\n",
       "9700  85457   51.420409\n",
       "9701  85458   53.121744\n",
       "9702  85459   81.370424\n",
       "9703  85460   75.563593\n",
       "9704  85461   62.277511\n",
       "\n",
       "[9705 rows x 2 columns]"
      ]
     },
     "execution_count": 9,
     "metadata": {},
     "output_type": "execute_result"
    }
   ],
   "source": [
    "# preds = np.mean(np.column_stack(predictions), axis=1)\n",
    "preds = model.predict(X_test)\n",
    "sub = pd.DataFrame(columns = ['id', 'site_eui'])\n",
    "sub['id'] = id\n",
    "sub['site_eui'] = preds\n",
    "sub"
   ]
  },
  {
   "cell_type": "code",
   "execution_count": 10,
   "id": "5b210a7b-a6e5-4dd6-aebc-20e706113558",
   "metadata": {},
   "outputs": [],
   "source": [
    "sub.to_csv(\"submission.csv\", index=False)"
   ]
  },
  {
   "cell_type": "code",
   "execution_count": null,
   "id": "14acd4fd-d4ff-4475-9b87-e6784b76fd71",
   "metadata": {},
   "outputs": [],
   "source": []
  }
 ],
 "metadata": {
  "kernelspec": {
   "display_name": "Python 3 (ipykernel)",
   "language": "python",
   "name": "python3"
  },
  "language_info": {
   "codemirror_mode": {
    "name": "ipython",
    "version": 3
   },
   "file_extension": ".py",
   "mimetype": "text/x-python",
   "name": "python",
   "nbconvert_exporter": "python",
   "pygments_lexer": "ipython3",
   "version": "3.10.0"
  }
 },
 "nbformat": 4,
 "nbformat_minor": 5
}
