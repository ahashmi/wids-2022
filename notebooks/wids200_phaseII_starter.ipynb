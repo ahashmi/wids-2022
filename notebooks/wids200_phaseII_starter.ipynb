{
 "cells": [
  {
   "cell_type": "code",
   "execution_count": 2,
   "id": "26b482f1",
   "metadata": {},
   "outputs": [],
   "source": [
    "import pandas as pd\n",
    "from pathlib import Path"
   ]
  },
  {
   "cell_type": "markdown",
   "id": "2d116178",
   "metadata": {},
   "source": [
    "### Description of the data:\n",
    "\n",
    "This dataset represents daily air quality measurements in the United States for 2019 and 2020 in EPA’s Air Quality System (AQS, https://www.epa.gov/aqs) database in which both PM2.5 and ozone are measured concurrently.  These PM2.5 and ozone concentration data are joined with locational, meteorological, demographic information, and concentrations of other major air quality pollutants when available.  All of the data were downloaded from AQS with the exception of four demographic parameters (people of color, low income, linguistically isolated, and less than high school education) which come from EPA’s EJSCREEN tool (https://www.epa.gov/ejscreen).  These demographic parameters are at the Census \"block group\" level (area defined by the Census Bureau that usually has between 600 and 3,000 people) and listed in fractional units for the block group containing the monitor location. "
   ]
  },
  {
   "cell_type": "markdown",
   "id": "ef6efc91",
   "metadata": {},
   "source": [
    "**Data Source**\n",
    "https://www.kaggle.com/competitions/phase-ii-widsdatathon2022/data"
   ]
  },
  {
   "cell_type": "code",
   "execution_count": 3,
   "id": "9d2c921d",
   "metadata": {},
   "outputs": [],
   "source": [
    "data_dir = Path(r'../DATA')"
   ]
  },
  {
   "cell_type": "code",
   "execution_count": 4,
   "id": "4dca4167",
   "metadata": {},
   "outputs": [
    {
     "name": "stdout",
     "output_type": "stream",
     "text": [
      "1) Datathon_EPA_Air_Quality_Demographics_Meteorology_2019.xlsx\n",
      "2) Datathon_EPA_Air_Quality_Demographics_Meteorology_2020.xlsx\n"
     ]
    }
   ],
   "source": [
    "epa_files = {}\n",
    "for n, epa_file in enumerate(data_dir.glob('*.xlsx'), start=1):\n",
    "    print(f'{n}) {epa_file.name}')\n",
    "    yr = epa_file.stem.split('_')[-1]\n",
    "    epa_files[yr] = pd.ExcelFile(epa_file)"
   ]
  },
  {
   "cell_type": "code",
   "execution_count": 5,
   "id": "0a91c02e",
   "metadata": {},
   "outputs": [
    {
     "name": "stdout",
     "output_type": "stream",
     "text": [
      "2019 data loaded: 129470 rows, 23 cols\n",
      "2020 data loaded: 133418 rows, 23 cols\n",
      "combined data loaded: 262888 rows, 23 cols\n",
      "CPU times: total: 2min 22s\n",
      "Wall time: 2min 23s\n"
     ]
    }
   ],
   "source": [
    "%%time\n",
    "epa_yr_dfs = []\n",
    "for year, xl_file in epa_files.items():\n",
    "    df = pd.read_excel(xl_file, sheet_name=\"Sheet1\")\n",
    "    df['year'] = year\n",
    "    n_rows, n_cols = df.shape\n",
    "    print(f'{year} data loaded: {n_rows} rows, {n_cols} cols')\n",
    "    epa_yr_dfs.append(df)\n",
    "epa_df = pd.concat(epa_yr_dfs)\n",
    "n_rows, n_cols = epa_df.shape\n",
    "print(f'combined data loaded: {n_rows} rows, {n_cols} cols')"
   ]
  },
  {
   "cell_type": "code",
   "execution_count": 6,
   "id": "6f5f3250",
   "metadata": {},
   "outputs": [
    {
     "name": "stdout",
     "output_type": "stream",
     "text": [
      "AQS_ID\n",
      "LATITUDE\n",
      "LONGITUDE\n",
      "COUNTY\n",
      "STATE\n",
      "CBSA\n",
      "PEOPLE_OF_COLOR_FRACTION\n",
      "LOW_INCOME_FRACTION\n",
      "LINGUISTICALLY_ISOLATED_FRACTION\n",
      "LESS_THAN_HS_ED_FRACTION\n",
      "DATE\n",
      "TEMPERATURE_CELSIUS\n",
      "RELATIVE_HUMIDITY\n",
      "WIND_SPEED_METERS_PER_SECOND\n",
      "WIND_DIRECTION\n",
      "PM25_UG_PER_CUBIC_METER\n",
      "OZONE_PPM\n",
      "NO2_PPB\n",
      "CO_PPM\n",
      "SO2_PPB\n",
      "LEAD_UG_PER_CUBIC_METER\n",
      "BENZENE_PPBC\n",
      "year\n"
     ]
    }
   ],
   "source": [
    "for col in epa_df.columns:\n",
    "    print(col)"
   ]
  },
  {
   "cell_type": "code",
   "execution_count": 7,
   "id": "6a264017",
   "metadata": {},
   "outputs": [
    {
     "name": "stdout",
     "output_type": "stream",
     "text": [
      "California              49076\n",
      "Pennsylvania            19940\n",
      "Utah                    11388\n",
      "Texas                    8968\n",
      "Florida                  8531\n",
      "Nevada                   7783\n",
      "Arizona                  7160\n",
      "Wisconsin                6861\n",
      "Massachusetts            6765\n",
      "Indiana                  6545\n",
      "North Dakota             6451\n",
      "Kentucky                 6444\n",
      "Oklahoma                 6008\n",
      "New Jersey               5753\n",
      "Minnesota                5539\n",
      "North Carolina           5421\n",
      "Illinois                 5377\n",
      "Maryland                 4915\n",
      "Michigan                 4738\n",
      "Wyoming                  4610\n",
      "New York                 4534\n",
      "New Mexico               4406\n",
      "Montana                  4371\n",
      "Ohio                     4329\n",
      "Kansas                   4220\n",
      "Colorado                 4138\n",
      "New Hampshire            3788\n",
      "South Dakota             3771\n",
      "Mississippi              3538\n",
      "Virginia                 3179\n",
      "Georgia                  3034\n",
      "Missouri                 3013\n",
      "Connecticut              2908\n",
      "Delaware                 2639\n",
      "Iowa                     2420\n",
      "Alabama                  2161\n",
      "Louisiana                2138\n",
      "Vermont                  2109\n",
      "South Carolina           1668\n",
      "Rhode Island             1460\n",
      "District Of Columbia     1409\n",
      "Maine                    1368\n",
      "West Virginia            1345\n",
      "Hawaii                   1329\n",
      "Tennessee                1287\n",
      "Arkansas                 1192\n",
      "Washington                849\n",
      "Nebraska                  693\n",
      "Oregon                    559\n",
      "Alaska                    447\n",
      "Idaho                     222\n",
      "Puerto Rico                91\n",
      "Name: STATE, dtype: int64\n"
     ]
    }
   ],
   "source": [
    "print(epa_df['STATE'].value_counts())"
   ]
  },
  {
   "cell_type": "code",
   "execution_count": 8,
   "id": "c71c6a43",
   "metadata": {},
   "outputs": [],
   "source": [
    "ca_epa_df = epa_df[epa_df['STATE'] == 'California']"
   ]
  },
  {
   "cell_type": "code",
   "execution_count": 9,
   "id": "80f1bd6f",
   "metadata": {},
   "outputs": [
    {
     "name": "stdout",
     "output_type": "stream",
     "text": [
      "Riverside          4192\n",
      "Ventura            3528\n",
      "Los Angeles        2841\n",
      "Alameda            2803\n",
      "Santa Barbara      2754\n",
      "Fresno             2642\n",
      "Monterey           2120\n",
      "San Diego          1900\n",
      "Sacramento         1831\n",
      "Santa Clara        1426\n",
      "Contra Costa       1402\n",
      "San Luis Obispo    1363\n",
      "Stanislaus         1362\n",
      "Kern               1331\n",
      "San Bernardino     1118\n",
      "Orange              948\n",
      "Imperial            897\n",
      "Inyo                798\n",
      "San Francisco       716\n",
      "Solano              711\n",
      "San Benito          705\n",
      "Santa Cruz          703\n",
      "Siskiyou            701\n",
      "Marin               699\n",
      "Merced              695\n",
      "Kings               695\n",
      "Sutter              690\n",
      "San Mateo           687\n",
      "Placer              687\n",
      "Napa                681\n",
      "San Joaquin         680\n",
      "Tehama              677\n",
      "Calaveras           672\n",
      "Butte               663\n",
      "Nevada              644\n",
      "Madera              620\n",
      "Sonoma              600\n",
      "Tulare              232\n",
      "Humboldt            201\n",
      "Colusa              132\n",
      "Shasta              120\n",
      "Lake                119\n",
      "Yolo                 90\n",
      "Name: COUNTY, dtype: int64\n"
     ]
    }
   ],
   "source": [
    "print(ca_epa_df['COUNTY'].value_counts())"
   ]
  },
  {
   "cell_type": "code",
   "execution_count": null,
   "id": "3f292ca3",
   "metadata": {},
   "outputs": [],
   "source": []
  }
 ],
 "metadata": {
  "kernelspec": {
   "display_name": "Python 3 (ipykernel)",
   "language": "python",
   "name": "python3"
  },
  "language_info": {
   "codemirror_mode": {
    "name": "ipython",
    "version": 3
   },
   "file_extension": ".py",
   "mimetype": "text/x-python",
   "name": "python",
   "nbconvert_exporter": "python",
   "pygments_lexer": "ipython3",
   "version": "3.10.0"
  }
 },
 "nbformat": 4,
 "nbformat_minor": 5
}
