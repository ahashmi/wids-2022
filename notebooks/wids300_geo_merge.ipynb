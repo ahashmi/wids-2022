{
 "cells": [
  {
   "cell_type": "code",
   "execution_count": 20,
   "id": "a0f8702a",
   "metadata": {},
   "outputs": [],
   "source": [
    "from pathlib import Path\n",
    "import pandas as pd"
   ]
  },
  {
   "cell_type": "code",
   "execution_count": 21,
   "id": "2f2c5756",
   "metadata": {},
   "outputs": [],
   "source": [
    "data_dir = Path(r'../DATA')"
   ]
  },
  {
   "cell_type": "code",
   "execution_count": 22,
   "id": "761dadea",
   "metadata": {},
   "outputs": [],
   "source": [
    "cdc_places_file = data_dir / 'cdc_locations.csv'\n",
    "epa_places_file = data_dir / 'epa_locations.csv'"
   ]
  },
  {
   "cell_type": "code",
   "execution_count": 23,
   "id": "20e17f63",
   "metadata": {},
   "outputs": [
    {
     "name": "stdout",
     "output_type": "stream",
     "text": [
      "CDC locations loaded: 3142 rows, 3 cols\n",
      "EPA locations loaded: 525 rows, 6 cols\n"
     ]
    }
   ],
   "source": [
    "cdc_places = pd.read_table(cdc_places_file, sep=',')\n",
    "print(f'CDC locations loaded: {cdc_places.shape[0]} rows, {cdc_places.shape[1]} cols')\n",
    "epa_places = pd.read_table(epa_places_file, sep=',')\n",
    "print(f'EPA locations loaded: {epa_places.shape[0]} rows, {epa_places.shape[1]} cols')"
   ]
  },
  {
   "cell_type": "code",
   "execution_count": 24,
   "id": "9da5b72b",
   "metadata": {},
   "outputs": [],
   "source": [
    "cdc_places['CDC'] = 1"
   ]
  },
  {
   "cell_type": "code",
   "execution_count": 32,
   "id": "5282d18c",
   "metadata": {},
   "outputs": [
    {
     "name": "stdout",
     "output_type": "stream",
     "text": [
      "merged locations loaded: 525 rows, 8 cols\n"
     ]
    }
   ],
   "source": [
    "merged_places = epa_places.merge(cdc_places, on=['STATE', 'COUNTY'], how='left')\n",
    "merged_places.fillna(0, inplace=True)\n",
    "print(f'merged locations loaded: {merged_places.shape[0]} rows, {merged_places.shape[1]} cols')"
   ]
  },
  {
   "cell_type": "code",
   "execution_count": 33,
   "id": "dfcad8fb",
   "metadata": {},
   "outputs": [
    {
     "data": {
      "text/html": [
       "<div>\n",
       "<style scoped>\n",
       "    .dataframe tbody tr th:only-of-type {\n",
       "        vertical-align: middle;\n",
       "    }\n",
       "\n",
       "    .dataframe tbody tr th {\n",
       "        vertical-align: top;\n",
       "    }\n",
       "\n",
       "    .dataframe thead th {\n",
       "        text-align: right;\n",
       "    }\n",
       "</style>\n",
       "<table border=\"1\" class=\"dataframe\">\n",
       "  <thead>\n",
       "    <tr style=\"text-align: right;\">\n",
       "      <th></th>\n",
       "      <th>AQS_ID</th>\n",
       "      <th>LATITUDE</th>\n",
       "      <th>LONGITUDE</th>\n",
       "      <th>STATE</th>\n",
       "      <th>COUNTY</th>\n",
       "      <th>CBSA</th>\n",
       "      <th>ABBR</th>\n",
       "      <th>CDC</th>\n",
       "    </tr>\n",
       "  </thead>\n",
       "  <tbody>\n",
       "    <tr>\n",
       "      <th>10</th>\n",
       "      <td>02-090-0034</td>\n",
       "      <td>64.845690</td>\n",
       "      <td>-147.727413</td>\n",
       "      <td>Alaska</td>\n",
       "      <td>Fairbanks North Star</td>\n",
       "      <td>Fairbanks, AK</td>\n",
       "      <td>0</td>\n",
       "      <td>0.0</td>\n",
       "    </tr>\n",
       "    <tr>\n",
       "      <th>169</th>\n",
       "      <td>17-163-0010</td>\n",
       "      <td>38.612034</td>\n",
       "      <td>-90.160477</td>\n",
       "      <td>Illinois</td>\n",
       "      <td>Saint Clair</td>\n",
       "      <td>St. Louis, MO-IL</td>\n",
       "      <td>0</td>\n",
       "      <td>0.0</td>\n",
       "    </tr>\n",
       "    <tr>\n",
       "      <th>264</th>\n",
       "      <td>27-137-7550</td>\n",
       "      <td>46.818260</td>\n",
       "      <td>-92.089360</td>\n",
       "      <td>Minnesota</td>\n",
       "      <td>Saint Louis</td>\n",
       "      <td>Duluth, MN-WI</td>\n",
       "      <td>0</td>\n",
       "      <td>0.0</td>\n",
       "    </tr>\n",
       "    <tr>\n",
       "      <th>318</th>\n",
       "      <td>35-013-0021</td>\n",
       "      <td>31.796218</td>\n",
       "      <td>-106.584434</td>\n",
       "      <td>New Mexico</td>\n",
       "      <td>Dona Ana</td>\n",
       "      <td>Las Cruces, NM</td>\n",
       "      <td>0</td>\n",
       "      <td>0.0</td>\n",
       "    </tr>\n",
       "    <tr>\n",
       "      <th>319</th>\n",
       "      <td>35-013-0022</td>\n",
       "      <td>31.787885</td>\n",
       "      <td>-106.683324</td>\n",
       "      <td>New Mexico</td>\n",
       "      <td>Dona Ana</td>\n",
       "      <td>Las Cruces, NM</td>\n",
       "      <td>0</td>\n",
       "      <td>0.0</td>\n",
       "    </tr>\n",
       "    <tr>\n",
       "      <th>471</th>\n",
       "      <td>51-036-0002</td>\n",
       "      <td>37.344380</td>\n",
       "      <td>-77.259250</td>\n",
       "      <td>Virginia</td>\n",
       "      <td>Charles</td>\n",
       "      <td>Richmond, VA</td>\n",
       "      <td>0</td>\n",
       "      <td>0.0</td>\n",
       "    </tr>\n",
       "    <tr>\n",
       "      <th>479</th>\n",
       "      <td>51-650-0008</td>\n",
       "      <td>37.103733</td>\n",
       "      <td>-76.387017</td>\n",
       "      <td>Virginia</td>\n",
       "      <td>Hampton City</td>\n",
       "      <td>Virginia Beach-Norfolk-Newport News, VA-NC</td>\n",
       "      <td>0</td>\n",
       "      <td>0.0</td>\n",
       "    </tr>\n",
       "    <tr>\n",
       "      <th>511</th>\n",
       "      <td>72-021-0010</td>\n",
       "      <td>18.420089</td>\n",
       "      <td>-66.150615</td>\n",
       "      <td>Puerto Rico</td>\n",
       "      <td>Bayamon</td>\n",
       "      <td>San Juan-Carolina-Caguas, PR</td>\n",
       "      <td>0</td>\n",
       "      <td>0.0</td>\n",
       "    </tr>\n",
       "  </tbody>\n",
       "</table>\n",
       "</div>"
      ],
      "text/plain": [
       "          AQS_ID   LATITUDE   LONGITUDE        STATE                 COUNTY  \\\n",
       "10   02-090-0034  64.845690 -147.727413       Alaska  Fairbanks North Star    \n",
       "169  17-163-0010  38.612034  -90.160477     Illinois            Saint Clair   \n",
       "264  27-137-7550  46.818260  -92.089360    Minnesota            Saint Louis   \n",
       "318  35-013-0021  31.796218 -106.584434   New Mexico               Dona Ana   \n",
       "319  35-013-0022  31.787885 -106.683324   New Mexico               Dona Ana   \n",
       "471  51-036-0002  37.344380  -77.259250     Virginia                Charles   \n",
       "479  51-650-0008  37.103733  -76.387017     Virginia           Hampton City   \n",
       "511  72-021-0010  18.420089  -66.150615  Puerto Rico                Bayamon   \n",
       "\n",
       "                                           CBSA ABBR  CDC  \n",
       "10                                Fairbanks, AK    0  0.0  \n",
       "169                            St. Louis, MO-IL    0  0.0  \n",
       "264                               Duluth, MN-WI    0  0.0  \n",
       "318                              Las Cruces, NM    0  0.0  \n",
       "319                              Las Cruces, NM    0  0.0  \n",
       "471                                Richmond, VA    0  0.0  \n",
       "479  Virginia Beach-Norfolk-Newport News, VA-NC    0  0.0  \n",
       "511                San Juan-Carolina-Caguas, PR    0  0.0  "
      ]
     },
     "execution_count": 33,
     "metadata": {},
     "output_type": "execute_result"
    }
   ],
   "source": [
    "merged_places[merged_places['CDC'] == 0]"
   ]
  },
  {
   "cell_type": "code",
   "execution_count": 40,
   "id": "302ae88a",
   "metadata": {},
   "outputs": [],
   "source": [
    "cdc_data_file = data_dir / 'places' / 'cdc_outcomes_data.csv'\n",
    "epa_data_file = data_dir / 'epa' / 'epa_aq_data.csv'"
   ]
  },
  {
   "cell_type": "code",
   "execution_count": 42,
   "id": "64f65650",
   "metadata": {},
   "outputs": [
    {
     "name": "stdout",
     "output_type": "stream",
     "text": [
      "CDC data loaded: 6284 rows, 18 cols\n",
      "Index(['ABBR', 'year', 'COUNTY', 'CountyFIPS', 'Geolocation',\n",
      "       'ARTHRITIS_AdjPrev', 'BPHIGH_AdjPrev', 'CANCER_AdjPrev',\n",
      "       'CASTHMA_AdjPrev', 'CHD_AdjPrev', 'COPD_AdjPrev', 'DIABETES_AdjPrev',\n",
      "       'HIGHCHOL_AdjPrev', 'KIDNEY_AdjPrev', 'OBESITY_AdjPrev',\n",
      "       'STROKE_AdjPrev', 'TEETHLOST_AdjPrev', 'STATE'],\n",
      "      dtype='object')\n",
      "EPA data loaded: 262888 rows, 15 cols\n",
      "Index(['AQS_ID', 'LATITUDE', 'LONGITUDE', 'COUNTY', 'STATE', 'CBSA',\n",
      "       'PEOPLE_OF_COLOR_FRACTION', 'LOW_INCOME_FRACTION',\n",
      "       'LINGUISTICALLY_ISOLATED_FRACTION', 'LESS_THAN_HS_ED_FRACTION', 'DATE',\n",
      "       'PM25_UG_PER_CUBIC_METER', 'OZONE_PPM', 'year', 'month'],\n",
      "      dtype='object')\n"
     ]
    }
   ],
   "source": [
    "cdc_data = pd.read_table(cdc_data_file, sep=',')\n",
    "print(f'CDC data loaded: {cdc_data.shape[0]} rows, {cdc_data.shape[1]} cols')\n",
    "print(cdc_data.columns)\n",
    "epa_data = pd.read_table(epa_data_file, sep=',')\n",
    "print(f'EPA data loaded: {epa_data.shape[0]} rows, {epa_data.shape[1]} cols')\n",
    "print(epa_data.columns)"
   ]
  },
  {
   "cell_type": "code",
   "execution_count": null,
   "id": "485e2876",
   "metadata": {},
   "outputs": [],
   "source": []
  }
 ],
 "metadata": {
  "kernelspec": {
   "display_name": "Python 3 (ipykernel)",
   "language": "python",
   "name": "python3"
  },
  "language_info": {
   "codemirror_mode": {
    "name": "ipython",
    "version": 3
   },
   "file_extension": ".py",
   "mimetype": "text/x-python",
   "name": "python",
   "nbconvert_exporter": "python",
   "pygments_lexer": "ipython3",
   "version": "3.9.6"
  }
 },
 "nbformat": 4,
 "nbformat_minor": 5
}
